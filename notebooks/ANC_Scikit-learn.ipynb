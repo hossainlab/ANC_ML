{
 "cells": [
  {
   "cell_type": "code",
   "execution_count": 1,
   "metadata": {
    "executionInfo": {
     "elapsed": 5459,
     "status": "ok",
     "timestamp": 1739201555564,
     "user": {
      "displayName": "Jubayer Hossain",
      "userId": "07115251816058644386"
     },
     "user_tz": -360
    },
    "id": "GQbAgIC2kFoB",
    "tags": []
   },
   "outputs": [],
   "source": [
    "import numpy as np\n",
    "import pandas as pd\n",
    "import matplotlib.pyplot as plt\n",
    "import seaborn as sns\n",
    "from sklearn.model_selection import train_test_split, cross_val_score, cross_val_predict,GridSearchCV\n",
    "from sklearn.preprocessing import LabelEncoder, StandardScaler\n",
    "from sklearn.ensemble import RandomForestClassifier, GradientBoostingClassifier\n",
    "from sklearn.linear_model import LogisticRegression\n",
    "from sklearn.svm import SVC\n",
    "from sklearn.tree import DecisionTreeClassifier\n",
    "from sklearn.neighbors import KNeighborsClassifier\n",
    "from sklearn.naive_bayes import GaussianNB\n",
    "from sklearn.metrics import roc_auc_score, accuracy_score, roc_curve, confusion_matrix\n",
    "from imblearn.over_sampling import SMOTE\n",
    "import shap\n",
    "import warnings\n",
    "warnings.filterwarnings('ignore')"
   ]
  },
  {
   "cell_type": "code",
   "execution_count": 2,
   "metadata": {
    "colab": {
     "base_uri": "https://localhost:8080/",
     "height": 501
    },
    "executionInfo": {
     "elapsed": 1489,
     "status": "ok",
     "timestamp": 1739201631528,
     "user": {
      "displayName": "Jubayer Hossain",
      "userId": "07115251816058644386"
     },
     "user_tz": -360
    },
    "id": "OL-UxccBloE2",
    "outputId": "83b85bb9-c34f-42d9-d082-4fc818ddbdcf",
    "tags": []
   },
   "outputs": [
    {
     "data": {
      "text/html": [
       "<div>\n",
       "<style scoped>\n",
       "    .dataframe tbody tr th:only-of-type {\n",
       "        vertical-align: middle;\n",
       "    }\n",
       "\n",
       "    .dataframe tbody tr th {\n",
       "        vertical-align: top;\n",
       "    }\n",
       "\n",
       "    .dataframe thead th {\n",
       "        text-align: right;\n",
       "    }\n",
       "</style>\n",
       "<table border=\"1\" class=\"dataframe\">\n",
       "  <thead>\n",
       "    <tr style=\"text-align: right;\">\n",
       "      <th></th>\n",
       "      <th>Age</th>\n",
       "      <th>\\nEducational status</th>\n",
       "      <th>Marital status</th>\n",
       "      <th>\\nResidence</th>\n",
       "      <th>Religion</th>\n",
       "      <th>Monthly income</th>\n",
       "      <th>Occupation</th>\n",
       "      <th>Husband's educational qualification</th>\n",
       "      <th>Media access</th>\n",
       "      <th>Distance to a health facility</th>\n",
       "      <th>\\nPregnancy intension</th>\n",
       "      <th>Did you attend ANC visit during your last pregnancy within 3 months?</th>\n",
       "      <th>Who encouraged you to attend antenatal care visit?</th>\n",
       "      <th>Who took the decision for health care service?</th>\n",
       "      <th>Time to first antenatal care visit</th>\n",
       "      <th>ANC Visit</th>\n",
       "      <th>Parity</th>\n",
       "      <th>Total family members</th>\n",
       "      <th>Did you experience miscarriage before last pregnancy?</th>\n",
       "    </tr>\n",
       "  </thead>\n",
       "  <tbody>\n",
       "    <tr>\n",
       "      <th>0</th>\n",
       "      <td>24</td>\n",
       "      <td>Secondary</td>\n",
       "      <td>Married</td>\n",
       "      <td>Rural</td>\n",
       "      <td>Muslim</td>\n",
       "      <td>Less than 20000 tk</td>\n",
       "      <td>Not working</td>\n",
       "      <td>Secondary</td>\n",
       "      <td>No</td>\n",
       "      <td>Not a big problem</td>\n",
       "      <td>Intended</td>\n",
       "      <td>No</td>\n",
       "      <td>Family</td>\n",
       "      <td>Respondent and husband</td>\n",
       "      <td>5.0</td>\n",
       "      <td>Yes</td>\n",
       "      <td>2</td>\n",
       "      <td>4</td>\n",
       "      <td>No</td>\n",
       "    </tr>\n",
       "    <tr>\n",
       "      <th>1</th>\n",
       "      <td>40</td>\n",
       "      <td>Primary</td>\n",
       "      <td>Married</td>\n",
       "      <td>Rural</td>\n",
       "      <td>Muslim</td>\n",
       "      <td>Less than 20000 tk</td>\n",
       "      <td>Not working</td>\n",
       "      <td>Primary</td>\n",
       "      <td>No</td>\n",
       "      <td>Not a big problem</td>\n",
       "      <td>Unintended</td>\n",
       "      <td>No</td>\n",
       "      <td>Family</td>\n",
       "      <td>Respondent and husband</td>\n",
       "      <td>9.0</td>\n",
       "      <td>Yes</td>\n",
       "      <td>4</td>\n",
       "      <td>5</td>\n",
       "      <td>Yes</td>\n",
       "    </tr>\n",
       "    <tr>\n",
       "      <th>2</th>\n",
       "      <td>20</td>\n",
       "      <td>Secondary</td>\n",
       "      <td>Married</td>\n",
       "      <td>Rural</td>\n",
       "      <td>Hindu</td>\n",
       "      <td>20000-40000</td>\n",
       "      <td>Not working</td>\n",
       "      <td>Higher secondary</td>\n",
       "      <td>Yes</td>\n",
       "      <td>Not a big problem</td>\n",
       "      <td>Unintended</td>\n",
       "      <td>No</td>\n",
       "      <td>Family</td>\n",
       "      <td>Respondent and husband</td>\n",
       "      <td>4.0</td>\n",
       "      <td>Yes</td>\n",
       "      <td>2</td>\n",
       "      <td>7</td>\n",
       "      <td>No</td>\n",
       "    </tr>\n",
       "    <tr>\n",
       "      <th>3</th>\n",
       "      <td>28</td>\n",
       "      <td>Higher secondary</td>\n",
       "      <td>Married</td>\n",
       "      <td>Rural</td>\n",
       "      <td>Hindu</td>\n",
       "      <td>20000-40000</td>\n",
       "      <td>Working</td>\n",
       "      <td>Higher secondary</td>\n",
       "      <td>Yes</td>\n",
       "      <td>Not a big problem</td>\n",
       "      <td>Intended</td>\n",
       "      <td>No</td>\n",
       "      <td>Family</td>\n",
       "      <td>Respondent and husband</td>\n",
       "      <td>4.5</td>\n",
       "      <td>Yes</td>\n",
       "      <td>3</td>\n",
       "      <td>5</td>\n",
       "      <td>No</td>\n",
       "    </tr>\n",
       "    <tr>\n",
       "      <th>4</th>\n",
       "      <td>38</td>\n",
       "      <td>Primary</td>\n",
       "      <td>Married</td>\n",
       "      <td>Rural</td>\n",
       "      <td>Muslim</td>\n",
       "      <td>Less than 20000 tk</td>\n",
       "      <td>Not working</td>\n",
       "      <td>Primary</td>\n",
       "      <td>No</td>\n",
       "      <td>Not a big problem</td>\n",
       "      <td>Unintended</td>\n",
       "      <td>Yes</td>\n",
       "      <td>Family</td>\n",
       "      <td>Respondent alone</td>\n",
       "      <td>2.0</td>\n",
       "      <td>Yes</td>\n",
       "      <td>3</td>\n",
       "      <td>5</td>\n",
       "      <td>No</td>\n",
       "    </tr>\n",
       "  </tbody>\n",
       "</table>\n",
       "</div>"
      ],
      "text/plain": [
       "   Age \\nEducational status Marital status \\nResidence Religion  \\\n",
       "0   24            Secondary        Married       Rural   Muslim   \n",
       "1   40              Primary        Married       Rural   Muslim   \n",
       "2   20            Secondary        Married       Rural    Hindu   \n",
       "3   28     Higher secondary        Married       Rural    Hindu   \n",
       "4   38              Primary        Married       Rural   Muslim   \n",
       "\n",
       "       Monthly income   Occupation Husband's educational qualification  \\\n",
       "0  Less than 20000 tk  Not working                           Secondary   \n",
       "1  Less than 20000 tk  Not working                             Primary   \n",
       "2         20000-40000  Not working                    Higher secondary   \n",
       "3         20000-40000      Working                    Higher secondary   \n",
       "4  Less than 20000 tk  Not working                             Primary   \n",
       "\n",
       "  Media access Distance to a health facility \\nPregnancy intension  \\\n",
       "0           No             Not a big problem              Intended   \n",
       "1           No             Not a big problem            Unintended   \n",
       "2          Yes             Not a big problem            Unintended   \n",
       "3          Yes             Not a big problem              Intended   \n",
       "4           No             Not a big problem            Unintended   \n",
       "\n",
       "  Did you attend ANC visit during your last pregnancy within 3 months?  \\\n",
       "0                                                 No                     \n",
       "1                                                 No                     \n",
       "2                                                 No                     \n",
       "3                                                 No                     \n",
       "4                                                Yes                     \n",
       "\n",
       "  Who encouraged you to attend antenatal care visit?  \\\n",
       "0                                             Family   \n",
       "1                                             Family   \n",
       "2                                             Family   \n",
       "3                                             Family   \n",
       "4                                             Family   \n",
       "\n",
       "  Who took the decision for health care service?  \\\n",
       "0                         Respondent and husband   \n",
       "1                         Respondent and husband   \n",
       "2                         Respondent and husband   \n",
       "3                         Respondent and husband   \n",
       "4                               Respondent alone   \n",
       "\n",
       "   Time to first antenatal care visit ANC Visit  Parity  Total family members  \\\n",
       "0                                 5.0       Yes       2                     4   \n",
       "1                                 9.0       Yes       4                     5   \n",
       "2                                 4.0       Yes       2                     7   \n",
       "3                                 4.5       Yes       3                     5   \n",
       "4                                 2.0       Yes       3                     5   \n",
       "\n",
       "  Did you experience miscarriage before last pregnancy?  \n",
       "0                                                 No     \n",
       "1                                                Yes     \n",
       "2                                                 No     \n",
       "3                                                 No     \n",
       "4                                                 No     "
      ]
     },
     "execution_count": 2,
     "metadata": {},
     "output_type": "execute_result"
    }
   ],
   "source": [
    "# Load Data\n",
    "data = pd.read_excel('../data/ANC_Raw.xlsx')\n",
    "data.head()"
   ]
  },
  {
   "cell_type": "code",
   "execution_count": 3,
   "metadata": {
    "colab": {
     "base_uri": "https://localhost:8080/",
     "height": 467
    },
    "executionInfo": {
     "elapsed": 50,
     "status": "ok",
     "timestamp": 1739201633374,
     "user": {
      "displayName": "Jubayer Hossain",
      "userId": "07115251816058644386"
     },
     "user_tz": -360
    },
    "id": "lLcjPK4DnNoU",
    "outputId": "35c566f0-dab9-4aed-84bc-a5a90d931ddd",
    "tags": []
   },
   "outputs": [
    {
     "data": {
      "text/html": [
       "<div>\n",
       "<style scoped>\n",
       "    .dataframe tbody tr th:only-of-type {\n",
       "        vertical-align: middle;\n",
       "    }\n",
       "\n",
       "    .dataframe tbody tr th {\n",
       "        vertical-align: top;\n",
       "    }\n",
       "\n",
       "    .dataframe thead th {\n",
       "        text-align: right;\n",
       "    }\n",
       "</style>\n",
       "<table border=\"1\" class=\"dataframe\">\n",
       "  <thead>\n",
       "    <tr style=\"text-align: right;\">\n",
       "      <th></th>\n",
       "      <th>Age</th>\n",
       "      <th>Educational status</th>\n",
       "      <th>Marital status</th>\n",
       "      <th>Residence</th>\n",
       "      <th>Religion</th>\n",
       "      <th>Monthly income</th>\n",
       "      <th>Occupation</th>\n",
       "      <th>Husband's educational qualification</th>\n",
       "      <th>Media access</th>\n",
       "      <th>Distance to a health facility</th>\n",
       "      <th>Pregnancy intension</th>\n",
       "      <th>Did you attend ANC visit during your last pregnancy within 3 months?</th>\n",
       "      <th>Who encouraged you to attend antenatal care visit?</th>\n",
       "      <th>Who took the decision for health care service?</th>\n",
       "      <th>Time to first antenatal care visit</th>\n",
       "      <th>ANC Visit</th>\n",
       "      <th>Parity</th>\n",
       "      <th>Total family members</th>\n",
       "      <th>Did you experience miscarriage before last pregnancy?</th>\n",
       "    </tr>\n",
       "  </thead>\n",
       "  <tbody>\n",
       "    <tr>\n",
       "      <th>0</th>\n",
       "      <td>24</td>\n",
       "      <td>Secondary</td>\n",
       "      <td>Married</td>\n",
       "      <td>Rural</td>\n",
       "      <td>Muslim</td>\n",
       "      <td>Less than 20000 tk</td>\n",
       "      <td>Not working</td>\n",
       "      <td>Secondary</td>\n",
       "      <td>No</td>\n",
       "      <td>Not a big problem</td>\n",
       "      <td>Intended</td>\n",
       "      <td>No</td>\n",
       "      <td>Family</td>\n",
       "      <td>Respondent and husband</td>\n",
       "      <td>5.0</td>\n",
       "      <td>Yes</td>\n",
       "      <td>2</td>\n",
       "      <td>4</td>\n",
       "      <td>No</td>\n",
       "    </tr>\n",
       "    <tr>\n",
       "      <th>1</th>\n",
       "      <td>40</td>\n",
       "      <td>Primary</td>\n",
       "      <td>Married</td>\n",
       "      <td>Rural</td>\n",
       "      <td>Muslim</td>\n",
       "      <td>Less than 20000 tk</td>\n",
       "      <td>Not working</td>\n",
       "      <td>Primary</td>\n",
       "      <td>No</td>\n",
       "      <td>Not a big problem</td>\n",
       "      <td>Unintended</td>\n",
       "      <td>No</td>\n",
       "      <td>Family</td>\n",
       "      <td>Respondent and husband</td>\n",
       "      <td>9.0</td>\n",
       "      <td>Yes</td>\n",
       "      <td>4</td>\n",
       "      <td>5</td>\n",
       "      <td>Yes</td>\n",
       "    </tr>\n",
       "    <tr>\n",
       "      <th>2</th>\n",
       "      <td>20</td>\n",
       "      <td>Secondary</td>\n",
       "      <td>Married</td>\n",
       "      <td>Rural</td>\n",
       "      <td>Hindu</td>\n",
       "      <td>20000-40000</td>\n",
       "      <td>Not working</td>\n",
       "      <td>Higher secondary</td>\n",
       "      <td>Yes</td>\n",
       "      <td>Not a big problem</td>\n",
       "      <td>Unintended</td>\n",
       "      <td>No</td>\n",
       "      <td>Family</td>\n",
       "      <td>Respondent and husband</td>\n",
       "      <td>4.0</td>\n",
       "      <td>Yes</td>\n",
       "      <td>2</td>\n",
       "      <td>7</td>\n",
       "      <td>No</td>\n",
       "    </tr>\n",
       "    <tr>\n",
       "      <th>3</th>\n",
       "      <td>28</td>\n",
       "      <td>Higher secondary</td>\n",
       "      <td>Married</td>\n",
       "      <td>Rural</td>\n",
       "      <td>Hindu</td>\n",
       "      <td>20000-40000</td>\n",
       "      <td>Working</td>\n",
       "      <td>Higher secondary</td>\n",
       "      <td>Yes</td>\n",
       "      <td>Not a big problem</td>\n",
       "      <td>Intended</td>\n",
       "      <td>No</td>\n",
       "      <td>Family</td>\n",
       "      <td>Respondent and husband</td>\n",
       "      <td>4.5</td>\n",
       "      <td>Yes</td>\n",
       "      <td>3</td>\n",
       "      <td>5</td>\n",
       "      <td>No</td>\n",
       "    </tr>\n",
       "    <tr>\n",
       "      <th>4</th>\n",
       "      <td>38</td>\n",
       "      <td>Primary</td>\n",
       "      <td>Married</td>\n",
       "      <td>Rural</td>\n",
       "      <td>Muslim</td>\n",
       "      <td>Less than 20000 tk</td>\n",
       "      <td>Not working</td>\n",
       "      <td>Primary</td>\n",
       "      <td>No</td>\n",
       "      <td>Not a big problem</td>\n",
       "      <td>Unintended</td>\n",
       "      <td>Yes</td>\n",
       "      <td>Family</td>\n",
       "      <td>Respondent alone</td>\n",
       "      <td>2.0</td>\n",
       "      <td>Yes</td>\n",
       "      <td>3</td>\n",
       "      <td>5</td>\n",
       "      <td>No</td>\n",
       "    </tr>\n",
       "  </tbody>\n",
       "</table>\n",
       "</div>"
      ],
      "text/plain": [
       "   Age Educational status Marital status Residence Religion  \\\n",
       "0   24          Secondary        Married     Rural   Muslim   \n",
       "1   40            Primary        Married     Rural   Muslim   \n",
       "2   20          Secondary        Married     Rural    Hindu   \n",
       "3   28   Higher secondary        Married     Rural    Hindu   \n",
       "4   38            Primary        Married     Rural   Muslim   \n",
       "\n",
       "       Monthly income   Occupation Husband's educational qualification  \\\n",
       "0  Less than 20000 tk  Not working                           Secondary   \n",
       "1  Less than 20000 tk  Not working                             Primary   \n",
       "2         20000-40000  Not working                    Higher secondary   \n",
       "3         20000-40000      Working                    Higher secondary   \n",
       "4  Less than 20000 tk  Not working                             Primary   \n",
       "\n",
       "  Media access Distance to a health facility Pregnancy intension  \\\n",
       "0           No             Not a big problem            Intended   \n",
       "1           No             Not a big problem          Unintended   \n",
       "2          Yes             Not a big problem          Unintended   \n",
       "3          Yes             Not a big problem            Intended   \n",
       "4           No             Not a big problem          Unintended   \n",
       "\n",
       "  Did you attend ANC visit during your last pregnancy within 3 months?  \\\n",
       "0                                                 No                     \n",
       "1                                                 No                     \n",
       "2                                                 No                     \n",
       "3                                                 No                     \n",
       "4                                                Yes                     \n",
       "\n",
       "  Who encouraged you to attend antenatal care visit?  \\\n",
       "0                                             Family   \n",
       "1                                             Family   \n",
       "2                                             Family   \n",
       "3                                             Family   \n",
       "4                                             Family   \n",
       "\n",
       "  Who took the decision for health care service?  \\\n",
       "0                         Respondent and husband   \n",
       "1                         Respondent and husband   \n",
       "2                         Respondent and husband   \n",
       "3                         Respondent and husband   \n",
       "4                               Respondent alone   \n",
       "\n",
       "   Time to first antenatal care visit ANC Visit  Parity  Total family members  \\\n",
       "0                                 5.0       Yes       2                     4   \n",
       "1                                 9.0       Yes       4                     5   \n",
       "2                                 4.0       Yes       2                     7   \n",
       "3                                 4.5       Yes       3                     5   \n",
       "4                                 2.0       Yes       3                     5   \n",
       "\n",
       "  Did you experience miscarriage before last pregnancy?  \n",
       "0                                                 No     \n",
       "1                                                Yes     \n",
       "2                                                 No     \n",
       "3                                                 No     \n",
       "4                                                 No     "
      ]
     },
     "execution_count": 3,
     "metadata": {},
     "output_type": "execute_result"
    }
   ],
   "source": [
    "# Clean Column Names\n",
    "data.columns = data.columns.str.strip().str.replace('\\\\n', ' ')\n",
    "data.head()"
   ]
  },
  {
   "cell_type": "code",
   "execution_count": 4,
   "metadata": {
    "executionInfo": {
     "elapsed": 3,
     "status": "ok",
     "timestamp": 1739201635201,
     "user": {
      "displayName": "Jubayer Hossain",
      "userId": "07115251816058644386"
     },
     "user_tz": -360
    },
    "id": "Dw6WvUpVnXhq",
    "tags": []
   },
   "outputs": [],
   "source": [
    "# Handle Missing Values\n",
    "data = data.dropna()"
   ]
  },
  {
   "cell_type": "code",
   "execution_count": 5,
   "metadata": {
    "executionInfo": {
     "elapsed": 4,
     "status": "ok",
     "timestamp": 1739201637134,
     "user": {
      "displayName": "Jubayer Hossain",
      "userId": "07115251816058644386"
     },
     "user_tz": -360
    },
    "id": "eexxzTinnaMq",
    "tags": []
   },
   "outputs": [],
   "source": [
    "# Encode Categorical Variables\n",
    "cat_cols = data.select_dtypes(include=['object']).columns\n",
    "encoder = LabelEncoder()\n",
    "for col in cat_cols:\n",
    "    data[col] = encoder.fit_transform(data[col])"
   ]
  },
  {
   "cell_type": "code",
   "execution_count": 6,
   "metadata": {
    "executionInfo": {
     "elapsed": 3,
     "status": "ok",
     "timestamp": 1739201639553,
     "user": {
      "displayName": "Jubayer Hossain",
      "userId": "07115251816058644386"
     },
     "user_tz": -360
    },
    "id": "FzLqYWIVnh65",
    "tags": []
   },
   "outputs": [],
   "source": [
    "# Define Features and Target\n",
    "X = data.drop('Did you attend ANC visit during your last pregnancy within 3 months?', axis=1)\n",
    "y = data['Did you attend ANC visit during your last pregnancy within 3 months?']"
   ]
  },
  {
   "cell_type": "code",
   "execution_count": 7,
   "metadata": {
    "executionInfo": {
     "elapsed": 2,
     "status": "ok",
     "timestamp": 1739201641197,
     "user": {
      "displayName": "Jubayer Hossain",
      "userId": "07115251816058644386"
     },
     "user_tz": -360
    },
    "id": "mTHHfdUXnk45",
    "tags": []
   },
   "outputs": [],
   "source": [
    "# Train-Test Split\n",
    "X_train, X_test, y_train, y_test = train_test_split(X, y, test_size=0.2, random_state=42)"
   ]
  },
  {
   "cell_type": "code",
   "execution_count": 8,
   "metadata": {
    "executionInfo": {
     "elapsed": 11,
     "status": "ok",
     "timestamp": 1739201642684,
     "user": {
      "displayName": "Jubayer Hossain",
      "userId": "07115251816058644386"
     },
     "user_tz": -360
    },
    "id": "Z1gVerB8nn9Z",
    "tags": []
   },
   "outputs": [],
   "source": [
    "# Scale Numerical Features\n",
    "scaler = StandardScaler()\n",
    "X_train = scaler.fit_transform(X_train)\n",
    "X_test = scaler.transform(X_test)"
   ]
  },
  {
   "cell_type": "code",
   "execution_count": 9,
   "metadata": {
    "executionInfo": {
     "elapsed": 40,
     "status": "ok",
     "timestamp": 1739201644627,
     "user": {
      "displayName": "Jubayer Hossain",
      "userId": "07115251816058644386"
     },
     "user_tz": -360
    },
    "id": "TvK4h0WsotOK",
    "tags": []
   },
   "outputs": [],
   "source": [
    "# Balance the Dataset with SMOTE\n",
    "smote = SMOTE(random_state=42)\n",
    "X_train_bal, y_train_bal = smote.fit_resample(X_train, y_train)"
   ]
  },
  {
   "cell_type": "code",
   "execution_count": 10,
   "metadata": {
    "colab": {
     "base_uri": "https://localhost:8080/",
     "height": 545
    },
    "executionInfo": {
     "elapsed": 554,
     "status": "ok",
     "timestamp": 1739201656132,
     "user": {
      "displayName": "Jubayer Hossain",
      "userId": "07115251816058644386"
     },
     "user_tz": -360
    },
    "id": "unouc_nzvY7p",
    "outputId": "8da3f5e5-e305-4eb4-cb64-36721f2cc6b2",
    "tags": []
   },
   "outputs": [
    {
     "data": {
      "image/png": "[encoded data removed]",
      "text/plain": [
       "<Figure size 1000x600 with 1 Axes>"
      ]
     },
     "metadata": {},
     "output_type": "display_data"
    }
   ],
   "source": [
    "# Combined Visualization Before and After SMOTE\n",
    "fig, ax = plt.subplots(1, 1, figsize=(10, 6))\n",
    "counts_before = y.value_counts()\n",
    "counts_after = pd.Series(y_train_bal).value_counts()\n",
    "bars = ax.bar(['No (Before)', 'Yes (Before)', 'No (After)', 'Yes (After)'],\n",
    "              [counts_before[0], counts_before[1], counts_after[0], counts_after[1]],\n",
    "              color=['green', 'orange', 'green', 'orange'])\n",
    "\n",
    "# Annotate the bars with counts\n",
    "for bar in bars:\n",
    "    height = bar.get_height()\n",
    "    ax.text(bar.get_x() + bar.get_width() / 2, height, f'{int(height)}', ha='center', va='bottom')\n",
    "\n",
    "ax.set_title('Class Distribution Before and After SMOTE Balancing')\n",
    "ax.set_ylabel('Count')\n",
    "plt.show()"
   ]
  },
  {
   "cell_type": "code",
   "execution_count": 11,
   "metadata": {
    "executionInfo": {
     "elapsed": 2,
     "status": "ok",
     "timestamp": 1739201722716,
     "user": {
      "displayName": "Jubayer Hossain",
      "userId": "07115251816058644386"
     },
     "user_tz": -360
    },
    "id": "i7NL6pZ6oLqd",
    "tags": []
   },
   "outputs": [],
   "source": [
    "# Define Models\n",
    "models = {\n",
    "    'Random Forest': RandomForestClassifier(random_state=42),\n",
    "    'Gradient Boosting': GradientBoostingClassifier(random_state=42),\n",
    "    'Logistic Regression': LogisticRegression(random_state=42, max_iter=1000),\n",
    "    'Support Vector Machine': SVC(probability=True, random_state=42),\n",
    "    'Decision Tree': DecisionTreeClassifier(random_state=42),\n",
    "    'K-Nearest Neighbors': KNeighborsClassifier(),\n",
    "    'Naive Bayes': GaussianNB()\n",
    "}"
   ]
  },
  {
   "cell_type": "code",
   "execution_count": 12,
   "metadata": {
    "colab": {
     "base_uri": "https://localhost:8080/",
     "height": 269
    },
    "executionInfo": {
     "elapsed": 8729,
     "status": "ok",
     "timestamp": 1739201734116,
     "user": {
      "displayName": "Jubayer Hossain",
      "userId": "07115251816058644386"
     },
     "user_tz": -360
    },
    "id": "Gz3FNjG8o0Xw",
    "outputId": "144ed56d-6aaf-447d-fd01-aebbf50acfb9",
    "tags": []
   },
   "outputs": [
    {
     "data": {
      "text/html": [
       "<div>\n",
       "<style scoped>\n",
       "    .dataframe tbody tr th:only-of-type {\n",
       "        vertical-align: middle;\n",
       "    }\n",
       "\n",
       "    .dataframe tbody tr th {\n",
       "        vertical-align: top;\n",
       "    }\n",
       "\n",
       "    .dataframe thead th {\n",
       "        text-align: right;\n",
       "    }\n",
       "</style>\n",
       "<table border=\"1\" class=\"dataframe\">\n",
       "  <thead>\n",
       "    <tr style=\"text-align: right;\">\n",
       "      <th></th>\n",
       "      <th>Model</th>\n",
       "      <th>Accuracy (Unbalanced)</th>\n",
       "      <th>AUC (Unbalanced)</th>\n",
       "      <th>Accuracy (Balanced)</th>\n",
       "      <th>AUC (Balanced)</th>\n",
       "    </tr>\n",
       "  </thead>\n",
       "  <tbody>\n",
       "    <tr>\n",
       "      <th>0</th>\n",
       "      <td>Random Forest</td>\n",
       "      <td>0.942460</td>\n",
       "      <td>0.954529</td>\n",
       "      <td>0.943574</td>\n",
       "      <td>0.976577</td>\n",
       "    </tr>\n",
       "    <tr>\n",
       "      <th>1</th>\n",
       "      <td>Gradient Boosting</td>\n",
       "      <td>0.934524</td>\n",
       "      <td>0.932780</td>\n",
       "      <td>0.932602</td>\n",
       "      <td>0.955887</td>\n",
       "    </tr>\n",
       "    <tr>\n",
       "      <th>2</th>\n",
       "      <td>Logistic Regression</td>\n",
       "      <td>0.912698</td>\n",
       "      <td>0.928340</td>\n",
       "      <td>0.891850</td>\n",
       "      <td>0.931830</td>\n",
       "    </tr>\n",
       "    <tr>\n",
       "      <th>3</th>\n",
       "      <td>Support Vector Machine</td>\n",
       "      <td>0.902778</td>\n",
       "      <td>0.930780</td>\n",
       "      <td>0.918495</td>\n",
       "      <td>0.959012</td>\n",
       "    </tr>\n",
       "    <tr>\n",
       "      <th>4</th>\n",
       "      <td>Decision Tree</td>\n",
       "      <td>0.857143</td>\n",
       "      <td>0.853088</td>\n",
       "      <td>0.899687</td>\n",
       "      <td>0.899687</td>\n",
       "    </tr>\n",
       "    <tr>\n",
       "      <th>5</th>\n",
       "      <td>K-Nearest Neighbors</td>\n",
       "      <td>0.789683</td>\n",
       "      <td>0.826603</td>\n",
       "      <td>0.821317</td>\n",
       "      <td>0.898620</td>\n",
       "    </tr>\n",
       "    <tr>\n",
       "      <th>6</th>\n",
       "      <td>Naive Bayes</td>\n",
       "      <td>0.809524</td>\n",
       "      <td>0.863187</td>\n",
       "      <td>0.807210</td>\n",
       "      <td>0.869095</td>\n",
       "    </tr>\n",
       "  </tbody>\n",
       "</table>\n",
       "</div>"
      ],
      "text/plain": [
       "                    Model  Accuracy (Unbalanced)  AUC (Unbalanced)  \\\n",
       "0           Random Forest               0.942460          0.954529   \n",
       "1       Gradient Boosting               0.934524          0.932780   \n",
       "2     Logistic Regression               0.912698          0.928340   \n",
       "3  Support Vector Machine               0.902778          0.930780   \n",
       "4           Decision Tree               0.857143          0.853088   \n",
       "5     K-Nearest Neighbors               0.789683          0.826603   \n",
       "6             Naive Bayes               0.809524          0.863187   \n",
       "\n",
       "   Accuracy (Balanced)  AUC (Balanced)  \n",
       "0             0.943574        0.976577  \n",
       "1             0.932602        0.955887  \n",
       "2             0.891850        0.931830  \n",
       "3             0.918495        0.959012  \n",
       "4             0.899687        0.899687  \n",
       "5             0.821317        0.898620  \n",
       "6             0.807210        0.869095  "
      ]
     },
     "execution_count": 12,
     "metadata": {},
     "output_type": "execute_result"
    }
   ],
   "source": [
    "# Cross-Validation and Model Comparison\n",
    "results = []\n",
    "for name, model in models.items():\n",
    "    # Cross-validation on Unbalanced Data\n",
    "    y_pred_unbal = cross_val_predict(model, X_train, y_train, cv=5, method=\"predict\")\n",
    "    y_prob_unbal = cross_val_predict(model, X_train, y_train, cv=5, method=\"predict_proba\")[:, 1] if hasattr(model, \"predict_proba\") else None\n",
    "    acc_unbal = accuracy_score(y_train, y_pred_unbal)\n",
    "    auc_unbal = roc_auc_score(y_train, y_prob_unbal) if y_prob_unbal is not None else None\n",
    "\n",
    "    # Cross-validation on Balanced Data\n",
    "    y_pred_bal = cross_val_predict(model, X_train_bal, y_train_bal, cv=5, method=\"predict\")\n",
    "    y_prob_bal = cross_val_predict(model, X_train_bal, y_train_bal, cv=5, method=\"predict_proba\")[:, 1] if hasattr(model, \"predict_proba\") else None\n",
    "    acc_bal = accuracy_score(y_train_bal, y_pred_bal)\n",
    "    auc_bal = roc_auc_score(y_train_bal, y_prob_bal) if y_prob_bal is not None else None\n",
    "\n",
    "    # Append Results\n",
    "    results.append({\n",
    "        'Model': name,\n",
    "        'Accuracy (Unbalanced)': acc_unbal,\n",
    "        'AUC (Unbalanced)': auc_unbal,\n",
    "        'Accuracy (Balanced)': acc_bal,\n",
    "        'AUC (Balanced)': auc_bal\n",
    "    })\n",
    "\n",
    "# Create Results DataFrame\n",
    "results_df = pd.DataFrame(results)\n",
    "results_df"
   ]
  },
  {
   "cell_type": "code",
   "execution_count": 13,
   "metadata": {
    "colab": {
     "base_uri": "https://localhost:8080/"
    },
    "executionInfo": {
     "elapsed": 43,
     "status": "ok",
     "timestamp": 1739201766388,
     "user": {
      "displayName": "Jubayer Hossain",
      "userId": "07115251816058644386"
     },
     "user_tz": -360
    },
    "id": "nk79cryBs07g",
    "outputId": "8693c9d6-ef97-432f-d024-697acebbbc4b",
    "tags": []
   },
   "outputs": [
    {
     "name": "stdout",
     "output_type": "stream",
     "text": [
      "\n",
      "Best Model: Random Forest\n"
     ]
    }
   ],
   "source": [
    "# Select Best Model Based on AUC\n",
    "best_model_name = results_df.sort_values(by='AUC (Balanced)', ascending=False).iloc[0]['Model']\n",
    "best_model = models[best_model_name]\n",
    "print(f\"\\nBest Model: {best_model_name}\")"
   ]
  },
  {
   "cell_type": "code",
   "execution_count": 14,
   "metadata": {
    "colab": {
     "base_uri": "https://localhost:8080/"
    },
    "executionInfo": {
     "elapsed": 12,
     "status": "ok",
     "timestamp": 1739201771068,
     "user": {
      "displayName": "Jubayer Hossain",
      "userId": "07115251816058644386"
     },
     "user_tz": -360
    },
    "id": "oG_-vY9MtcOF",
    "outputId": "2ab7ab59-386b-4eb2-bdfa-57cd02c848b2",
    "tags": []
   },
   "outputs": [
    {
     "name": "stdout",
     "output_type": "stream",
     "text": [
      "\n",
      "Default Hyperparameters for Random Forest:\n",
      "{'bootstrap': True, 'ccp_alpha': 0.0, 'class_weight': None, 'criterion': 'gini', 'max_depth': None, 'max_features': 'sqrt', 'max_leaf_nodes': None, 'max_samples': None, 'min_impurity_decrease': 0.0, 'min_samples_leaf': 1, 'min_samples_split': 2, 'min_weight_fraction_leaf': 0.0, 'monotonic_cst': None, 'n_estimators': 100, 'n_jobs': None, 'oob_score': False, 'random_state': 42, 'verbose': 0, 'warm_start': False}\n"
     ]
    }
   ],
   "source": [
    "# Print Default Hyperparameters\n",
    "print(f\"\\nDefault Hyperparameters for {best_model_name}:\")\n",
    "print(best_model.get_params())"
   ]
  },
  {
   "cell_type": "code",
   "execution_count": 15,
   "metadata": {
    "executionInfo": {
     "elapsed": 2,
     "status": "ok",
     "timestamp": 1739201786531,
     "user": {
      "displayName": "Jubayer Hossain",
      "userId": "07115251816058644386"
     },
     "user_tz": -360
    },
    "id": "yOoeukPb4Og6",
    "tags": []
   },
   "outputs": [],
   "source": [
    "# Define Random Forest Model\n",
    "rf_unbalanced = RandomForestClassifier(random_state=42)\n",
    "rf_balanced = RandomForestClassifier(random_state=42)\n",
    "rf_optimized = RandomForestClassifier(random_state=42)"
   ]
  },
  {
   "cell_type": "code",
   "execution_count": 16,
   "metadata": {
    "executionInfo": {
     "elapsed": 185,
     "status": "ok",
     "timestamp": 1739202026411,
     "user": {
      "displayName": "Jubayer Hossain",
      "userId": "07115251816058644386"
     },
     "user_tz": -360
    },
    "id": "D_vY8ju94SVB",
    "tags": []
   },
   "outputs": [],
   "source": [
    "# Train on Unbalanced Data\n",
    "rf_unbalanced.fit(X_train, y_train)\n",
    "y_prob_unbalanced = rf_unbalanced.predict_proba(X_test)[:, 1]\n",
    "auc_unbalanced = roc_auc_score(y_test, y_prob_unbalanced)\n",
    "acc_unbalanced = accuracy_score(y_test, rf_unbalanced.predict(X_test))"
   ]
  },
  {
   "cell_type": "code",
   "execution_count": 17,
   "metadata": {
    "executionInfo": {
     "elapsed": 164,
     "status": "ok",
     "timestamp": 1739202027531,
     "user": {
      "displayName": "Jubayer Hossain",
      "userId": "07115251816058644386"
     },
     "user_tz": -360
    },
    "id": "rMJKZHdV4U2R",
    "tags": []
   },
   "outputs": [],
   "source": [
    "# Train on Balanced Data\n",
    "rf_balanced.fit(X_train_bal, y_train_bal)\n",
    "y_prob_balanced = rf_balanced.predict_proba(X_test)[:, 1]\n",
    "auc_balanced = roc_auc_score(y_test, y_prob_balanced)\n",
    "acc_balanced = accuracy_score(y_test, rf_balanced.predict(X_test))"
   ]
  },
  {
   "cell_type": "code",
   "execution_count": null,
   "metadata": {
    "colab": {
     "base_uri": "https://localhost:8080/",
     "height": 408
    },
    "executionInfo": {
     "elapsed": 231887,
     "status": "error",
     "timestamp": 1739202023809,
     "user": {
      "displayName": "Jubayer Hossain",
      "userId": "07115251816058644386"
     },
     "user_tz": -360
    },
    "id": "zBfU1bectj68",
    "outputId": "c5860009-ce3c-4a1a-a44f-11cb4c30396e",
    "tags": []
   },
   "outputs": [],
   "source": [
    "# Hyperparameter Optimization\n",
    "param_grid = {\n",
    "    'n_estimators': [100, 200, 300, 400],\n",
    "    'max_depth': [None, 10, 20, 30, 40],\n",
    "    'min_samples_split': [2, 5, 10],\n",
    "    'min_samples_leaf': [1, 2, 4]\n",
    "}\n",
    "\n",
    "grid_search = GridSearchCV(rf_optimized, param_grid, cv=5, scoring='roc_auc', n_jobs=-1)\n",
    "grid_search.fit(X_train_bal, y_train_bal)\n",
    "rf_optimized = grid_search.best_estimator_\n",
    "y_prob_optimized = rf_optimized.predict_proba(X_test)[:, 1]\n",
    "auc_optimized = roc_auc_score(y_test, y_prob_optimized)\n",
    "acc_optimized = accuracy_score(y_test, rf_optimized.predict(X_test))"
   ]
  },
  {
   "cell_type": "code",
   "execution_count": 22,
   "metadata": {
    "colab": {
     "base_uri": "https://localhost:8080/",
     "height": 159
    },
    "executionInfo": {
     "elapsed": 3,
     "status": "error",
     "timestamp": 1739202030382,
     "user": {
      "displayName": "Jubayer Hossain",
      "userId": "07115251816058644386"
     },
     "user_tz": -360
    },
    "id": "TWr2OGPp4o8H",
    "outputId": "32b3c57f-a67a-4563-d0b8-70901620aad7"
   },
   "outputs": [
    {
     "ename": "NameError",
     "evalue": "name 'acc_test' is not defined",
     "output_type": "error",
     "traceback": [
      "\u001b[0;31m---------------------------------------------------------------------------\u001b[0m",
      "\u001b[0;31mNameError\u001b[0m                                 Traceback (most recent call last)",
      "\u001b[0;32m<ipython-input-22-8974593cf0f9>\u001b[0m in \u001b[0;36m<cell line: 0>\u001b[0;34m()\u001b[0m\n\u001b[0;32m----> 1\u001b[0;31m \u001b[0mprint\u001b[0m\u001b[0;34m(\u001b[0m\u001b[0;34mf\"Test Accuracy: {acc_test}\"\u001b[0m\u001b[0;34m)\u001b[0m\u001b[0;34m\u001b[0m\u001b[0;34m\u001b[0m\u001b[0m\n\u001b[0m\u001b[1;32m      2\u001b[0m \u001b[0mprint\u001b[0m\u001b[0;34m(\u001b[0m\u001b[0;34mf\"Test AUC: {auc_test}\"\u001b[0m\u001b[0;34m)\u001b[0m\u001b[0;34m\u001b[0m\u001b[0;34m\u001b[0m\u001b[0m\n",
      "\u001b[0;31mNameError\u001b[0m: name 'acc_test' is not defined"
     ]
    }
   ],
   "source": [
    "print(f\"Test Accuracy: {acc_test}\")\n",
    "print(f\"Test AUC: {auc_test}\")"
   ]
  },
  {
   "cell_type": "code",
   "execution_count": 23,
   "metadata": {
    "colab": {
     "base_uri": "https://localhost:8080/",
     "height": 211
    },
    "executionInfo": {
     "elapsed": 10,
     "status": "error",
     "timestamp": 1739202032615,
     "user": {
      "displayName": "Jubayer Hossain",
      "userId": "07115251816058644386"
     },
     "user_tz": -360
    },
    "id": "NRr3iz7N99iQ",
    "outputId": "d87a1dba-1fe0-4c76-c8a5-f17205ecfa6b"
   },
   "outputs": [
    {
     "ename": "NameError",
     "evalue": "name 'acc_optimized' is not defined",
     "output_type": "error",
     "traceback": [
      "\u001b[0;31m---------------------------------------------------------------------------\u001b[0m",
      "\u001b[0;31mNameError\u001b[0m                                 Traceback (most recent call last)",
      "\u001b[0;32m<ipython-input-23-d29f73694bdb>\u001b[0m in \u001b[0;36m<cell line: 0>\u001b[0;34m()\u001b[0m\n\u001b[1;32m      2\u001b[0m performance_df = pd.DataFrame({\n\u001b[1;32m      3\u001b[0m     \u001b[0;34m'Model'\u001b[0m\u001b[0;34m:\u001b[0m \u001b[0;34m[\u001b[0m\u001b[0;34m'Unbalanced'\u001b[0m\u001b[0;34m,\u001b[0m \u001b[0;34m'Balanced'\u001b[0m\u001b[0;34m,\u001b[0m \u001b[0;34m'Optimized'\u001b[0m\u001b[0;34m]\u001b[0m\u001b[0;34m,\u001b[0m\u001b[0;34m\u001b[0m\u001b[0;34m\u001b[0m\u001b[0m\n\u001b[0;32m----> 4\u001b[0;31m     \u001b[0;34m'Accuracy'\u001b[0m\u001b[0;34m:\u001b[0m \u001b[0;34m[\u001b[0m\u001b[0macc_unbalanced\u001b[0m\u001b[0;34m,\u001b[0m \u001b[0macc_balanced\u001b[0m\u001b[0;34m,\u001b[0m \u001b[0macc_optimized\u001b[0m\u001b[0;34m]\u001b[0m\u001b[0;34m,\u001b[0m\u001b[0;34m\u001b[0m\u001b[0;34m\u001b[0m\u001b[0m\n\u001b[0m\u001b[1;32m      5\u001b[0m     \u001b[0;34m'AUC'\u001b[0m\u001b[0;34m:\u001b[0m \u001b[0;34m[\u001b[0m\u001b[0mauc_unbalanced\u001b[0m\u001b[0;34m,\u001b[0m \u001b[0mauc_balanced\u001b[0m\u001b[0;34m,\u001b[0m \u001b[0mauc_optimized\u001b[0m\u001b[0;34m]\u001b[0m\u001b[0;34m\u001b[0m\u001b[0;34m\u001b[0m\u001b[0m\n\u001b[1;32m      6\u001b[0m })\n",
      "\u001b[0;31mNameError\u001b[0m: name 'acc_optimized' is not defined"
     ]
    }
   ],
   "source": [
    "# Visualize Model Performance Before and After Balancing\n",
    "performance_df = pd.DataFrame({\n",
    "    'Model': ['Unbalanced', 'Balanced', 'Optimized'],\n",
    "    'Accuracy': [acc_unbalanced, acc_balanced, acc_optimized],\n",
    "    'AUC': [auc_unbalanced, auc_balanced, auc_optimized]\n",
    "})\n",
    "\n",
    "# Plot Model Performance\n",
    "plt.figure(figsize=(10, 6))\n",
    "x = np.arange(len(performance_df['Model']))\n",
    "width = 0.35\n",
    "\n",
    "plt.bar(x - width/2, performance_df['Accuracy'], width, label='Accuracy', color='skyblue')\n",
    "plt.bar(x + width/2, performance_df['AUC'], width, label='AUC', color='orange')\n",
    "\n",
    "plt.xticks(x, performance_df['Model'])\n",
    "plt.title('Model Performance Before and After Balancing')\n",
    "plt.xlabel('Model')\n",
    "plt.ylabel('Score')\n",
    "plt.ylim(0, 1)\n",
    "plt.legend()\n",
    "plt.show()"
   ]
  },
  {
   "cell_type": "code",
   "execution_count": 24,
   "metadata": {
    "colab": {
     "base_uri": "https://localhost:8080/",
     "height": 211
    },
    "executionInfo": {
     "elapsed": 19,
     "status": "error",
     "timestamp": 1739202038790,
     "user": {
      "displayName": "Jubayer Hossain",
      "userId": "07115251816058644386"
     },
     "user_tz": -360
    },
    "id": "Uks3pQfJoSWc",
    "outputId": "d3012acc-dd95-4e5d-db4a-6187b4d8c9b8"
   },
   "outputs": [
    {
     "ename": "NameError",
     "evalue": "name 'y_prob_optimized' is not defined",
     "output_type": "error",
     "traceback": [
      "\u001b[0;31m---------------------------------------------------------------------------\u001b[0m",
      "\u001b[0;31mNameError\u001b[0m                                 Traceback (most recent call last)",
      "\u001b[0;32m<ipython-input-24-067dd6eacf12>\u001b[0m in \u001b[0;36m<cell line: 0>\u001b[0;34m()\u001b[0m\n\u001b[1;32m      2\u001b[0m \u001b[0mfpr_unbalanced\u001b[0m\u001b[0;34m,\u001b[0m \u001b[0mtpr_unbalanced\u001b[0m\u001b[0;34m,\u001b[0m \u001b[0m_\u001b[0m \u001b[0;34m=\u001b[0m \u001b[0mroc_curve\u001b[0m\u001b[0;34m(\u001b[0m\u001b[0my_test\u001b[0m\u001b[0;34m,\u001b[0m \u001b[0my_prob_unbalanced\u001b[0m\u001b[0;34m)\u001b[0m\u001b[0;34m\u001b[0m\u001b[0;34m\u001b[0m\u001b[0m\n\u001b[1;32m      3\u001b[0m \u001b[0mfpr_balanced\u001b[0m\u001b[0;34m,\u001b[0m \u001b[0mtpr_balanced\u001b[0m\u001b[0;34m,\u001b[0m \u001b[0m_\u001b[0m \u001b[0;34m=\u001b[0m \u001b[0mroc_curve\u001b[0m\u001b[0;34m(\u001b[0m\u001b[0my_test\u001b[0m\u001b[0;34m,\u001b[0m \u001b[0my_prob_balanced\u001b[0m\u001b[0;34m)\u001b[0m\u001b[0;34m\u001b[0m\u001b[0;34m\u001b[0m\u001b[0m\n\u001b[0;32m----> 4\u001b[0;31m \u001b[0mfpr_optimized\u001b[0m\u001b[0;34m,\u001b[0m \u001b[0mtpr_optimized\u001b[0m\u001b[0;34m,\u001b[0m \u001b[0m_\u001b[0m \u001b[0;34m=\u001b[0m \u001b[0mroc_curve\u001b[0m\u001b[0;34m(\u001b[0m\u001b[0my_test\u001b[0m\u001b[0;34m,\u001b[0m \u001b[0my_prob_optimized\u001b[0m\u001b[0;34m)\u001b[0m\u001b[0;34m\u001b[0m\u001b[0;34m\u001b[0m\u001b[0m\n\u001b[0m\u001b[1;32m      5\u001b[0m \u001b[0;34m\u001b[0m\u001b[0m\n\u001b[1;32m      6\u001b[0m \u001b[0mplt\u001b[0m\u001b[0;34m.\u001b[0m\u001b[0mfigure\u001b[0m\u001b[0;34m(\u001b[0m\u001b[0mfigsize\u001b[0m\u001b[0;34m=\u001b[0m\u001b[0;34m(\u001b[0m\u001b[0;36m10\u001b[0m\u001b[0;34m,\u001b[0m \u001b[0;36m6\u001b[0m\u001b[0;34m)\u001b[0m\u001b[0;34m)\u001b[0m\u001b[0;34m\u001b[0m\u001b[0;34m\u001b[0m\u001b[0m\n",
      "\u001b[0;31mNameError\u001b[0m: name 'y_prob_optimized' is not defined"
     ]
    }
   ],
   "source": [
    "# Plot ROC Curves\n",
    "fpr_unbalanced, tpr_unbalanced, _ = roc_curve(y_test, y_prob_unbalanced)\n",
    "fpr_balanced, tpr_balanced, _ = roc_curve(y_test, y_prob_balanced)\n",
    "fpr_optimized, tpr_optimized, _ = roc_curve(y_test, y_prob_optimized)\n",
    "\n",
    "plt.figure(figsize=(10, 6))\n",
    "plt.plot(fpr_unbalanced, tpr_unbalanced, label=f\"RF on Unbalanced Data (AUC = {auc_unbalanced:.2f})\", color='blue')\n",
    "plt.plot(fpr_balanced, tpr_balanced, label=f\"RF on Balanced Data (AUC = {auc_balanced:.2f})\", color='orange')\n",
    "plt.plot(fpr_optimized, tpr_optimized, label=f\"RF after Optimization (AUC = {auc_optimized:.2f})\", color='red')\n",
    "plt.plot([0, 1], [0, 1], linestyle=\"--\", color=\"gray\")\n",
    "plt.title(\"ROC Curve Comparison of Random Forest\")\n",
    "plt.xlabel(\"False Positive Rate\")\n",
    "plt.ylabel(\"True Positive Rate\")\n",
    "plt.legend()\n",
    "plt.show()"
   ]
  },
  {
   "cell_type": "code",
   "execution_count": null,
   "metadata": {
    "colab": {
     "base_uri": "https://localhost:8080/",
     "height": 315
    },
    "executionInfo": {
     "elapsed": 4998,
     "status": "error",
     "timestamp": 1737279781671,
     "user": {
      "displayName": "Jubayer Hossain",
      "userId": "07115251816058644386"
     },
     "user_tz": -360
    },
    "id": "oHtu0kgTnxrx",
    "outputId": "2599ebf9-ba8b-4fa1-abd7-2ff523b39815"
   },
   "outputs": [
    {
     "ename": "AssertionError",
     "evalue": "The shape of the shap_values matrix does not match the shape of the provided data matrix.",
     "output_type": "error",
     "traceback": [
      "\u001b[0;31m---------------------------------------------------------------------------\u001b[0m",
      "\u001b[0;31mAssertionError\u001b[0m                            Traceback (most recent call last)",
      "\u001b[0;32m<ipython-input-109-a2ea7789298c>\u001b[0m in \u001b[0;36m<cell line: 0>\u001b[0;34m()\u001b[0m\n\u001b[1;32m      7\u001b[0m \u001b[0;31m# Global Feature Importance Plot\u001b[0m\u001b[0;34m\u001b[0m\u001b[0;34m\u001b[0m\u001b[0m\n\u001b[1;32m      8\u001b[0m \u001b[0;31m# For classification models with shap_values as a list (e.g., multiple classes), choose class 1\u001b[0m\u001b[0;34m\u001b[0m\u001b[0;34m\u001b[0m\u001b[0m\n\u001b[0;32m----> 9\u001b[0;31m \u001b[0mshap\u001b[0m\u001b[0;34m.\u001b[0m\u001b[0msummary_plot\u001b[0m\u001b[0;34m(\u001b[0m\u001b[0mshap_values\u001b[0m\u001b[0;34m[\u001b[0m\u001b[0;36m1\u001b[0m\u001b[0;34m]\u001b[0m\u001b[0;34m,\u001b[0m \u001b[0mX_train_bal_df\u001b[0m\u001b[0;34m,\u001b[0m \u001b[0mplot_type\u001b[0m\u001b[0;34m=\u001b[0m\u001b[0;34m\"bar\"\u001b[0m\u001b[0;34m)\u001b[0m\u001b[0;34m\u001b[0m\u001b[0;34m\u001b[0m\u001b[0m\n\u001b[0m",
      "\u001b[0;32m/usr/local/lib/python3.11/dist-packages/shap/plots/_beeswarm.py\u001b[0m in \u001b[0;36msummary_legacy\u001b[0;34m(shap_values, features, feature_names, max_display, plot_type, color, axis_color, title, alpha, show, sort, color_bar, plot_size, layered_violin_max_num_bins, class_names, class_inds, color_bar_label, cmap, show_values_in_legend, use_log_scale)\u001b[0m\n\u001b[1;32m    541\u001b[0m                           \u001b[0;34m\"constant offset? Of so just pass shap_values[:,:-1].\"\u001b[0m\u001b[0;34m\u001b[0m\u001b[0;34m\u001b[0m\u001b[0m\n\u001b[1;32m    542\u001b[0m         \u001b[0;32melse\u001b[0m\u001b[0;34m:\u001b[0m\u001b[0;34m\u001b[0m\u001b[0;34m\u001b[0m\u001b[0m\n\u001b[0;32m--> 543\u001b[0;31m             \u001b[0;32massert\u001b[0m \u001b[0mnum_features\u001b[0m \u001b[0;34m==\u001b[0m \u001b[0mfeatures\u001b[0m\u001b[0;34m.\u001b[0m\u001b[0mshape\u001b[0m\u001b[0;34m[\u001b[0m\u001b[0;36m1\u001b[0m\u001b[0;34m]\u001b[0m\u001b[0;34m,\u001b[0m \u001b[0mshape_msg\u001b[0m\u001b[0;34m\u001b[0m\u001b[0;34m\u001b[0m\u001b[0m\n\u001b[0m\u001b[1;32m    544\u001b[0m \u001b[0;34m\u001b[0m\u001b[0m\n\u001b[1;32m    545\u001b[0m     \u001b[0;32mif\u001b[0m \u001b[0mfeature_names\u001b[0m \u001b[0;32mis\u001b[0m \u001b[0;32mNone\u001b[0m\u001b[0;34m:\u001b[0m\u001b[0;34m\u001b[0m\u001b[0;34m\u001b[0m\u001b[0m\n",
      "\u001b[0;31mAssertionError\u001b[0m: The shape of the shap_values matrix does not match the shape of the provided data matrix."
     ]
    }
   ],
   "source": [
    "# SHAP Analysis for Feature Importance\n",
    "explainer = shap.TreeExplainer(rf_optimized)\n",
    "\n",
    "# Compute SHAP values\n",
    "shap_values = explainer.shap_values(X_train_bal_df)\n",
    "\n",
    "# Global Feature Importance Plot\n",
    "# For classification models with shap_values as a list (e.g., multiple classes), choose class 1\n",
    "shap.summary_plot(shap_values[1], X_train_bal_df, plot_type=\"bar\")"
   ]
  }
 ],
 "metadata": {
  "accelerator": "GPU",
  "colab": {
   "authorship_tag": "ABX9TyOxlybCuwcMjnN+2gVKxrms",
   "gpuType": "T4",
   "mount_file_id": "121m2mwhZ9yC2H0Bv7nJWQId3L0jcpHjZ",
   "provenance": []
  },
  "kernelspec": {
   "display_name": "Python 3 (ipykernel)",
   "language": "python",
   "name": "python3"
  },
  "language_info": {
   "codemirror_mode": {
    "name": "ipython",
    "version": 3
   },
   "file_extension": ".py",
   "mimetype": "text/x-python",
   "name": "python",
   "nbconvert_exporter": "python",
   "pygments_lexer": "ipython3",
   "version": "3.11.7"
  }
 },
 "nbformat": 4,
 "nbformat_minor": 4
}
